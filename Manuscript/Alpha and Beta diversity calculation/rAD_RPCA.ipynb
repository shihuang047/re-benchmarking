{
 "cells": [
  {
   "cell_type": "code",
   "execution_count": null,
   "metadata": {},
   "outputs": [],
   "source": []
  },
  {
   "cell_type": "code",
   "execution_count": 1,
   "metadata": {},
   "outputs": [
    {
     "name": "stdout",
     "output_type": "stream",
     "text": [
      "\u001b[32mImported D_M_K_m_All_shared.biom as BIOMV210DirFmt to D_M_K_m_All_shared.qza\u001b[0m\r\n"
     ]
    }
   ],
   "source": [
    "! qiime tools import --input-path D_M_K_m_All_shared.biom --output-path D_M_K_m_All_shared.qza --type \"FeatureTable[Frequency]\""
   ]
  },
  {
   "cell_type": "code",
   "execution_count": 2,
   "metadata": {},
   "outputs": [],
   "source": [
    "import os\n",
    "import pandas as pd\n",
    "import warnings\n",
    "import qiime2 as q2\n",
    "# hide pandas Future/Deprecation Warning(s) for tutorial\n",
    "warnings.filterwarnings(\"ignore\", category=DeprecationWarning) \n",
    "warnings.simplefilter(action='ignore', category=FutureWarning)\n",
    "\n",
    "# import table(s)\n",
    "table = q2.Artifact.load('D_M_K_m_All.qza')\n",
    "shared_table = q2.Artifact.load('D_M_K_m_All_shared.qza')\n",
    "# import metadata\n",
    "metadata = q2.Metadata.load('D_M_K_m_All.metadata.tsv')"
   ]
  },
  {
   "cell_type": "code",
   "execution_count": 5,
   "metadata": {},
   "outputs": [],
   "source": [
    "from qiime2.plugins.deicode.actions import rpca\n",
    "from qiime2.plugins.emperor.actions import (plot, biplot)\n",
    "\n",
    "# run RPCA and plot with emperor\n",
    "rpca_biplot, rpca_distance = rpca(table)\n",
    "rpca_biplot_emperor = biplot(rpca_biplot, metadata)\n",
    "# make directory to store results\n",
    "output_path = 'RPCA-output'\n",
    "if not os.path.exists(output_path): os.mkdir(output_path)\n",
    "# now we can save the plots\n",
    "rpca_biplot_emperor.visualization.save(os.path.join(output_path, 'RPCA-biplot.qzv'))\n",
    "rpca_distance.save(os.path.join(output_path, 'RPCA-distance.qza'))\n",
    "rpca_biplot.save(os.path.join(output_path, 'RPCA-biplot.qza'))\n",
    "rpca_distance.export_data(os.path.join(output_path, 'all-RPCA-distance'))"
   ]
  },
  {
   "cell_type": "code",
   "execution_count": 6,
   "metadata": {},
   "outputs": [],
   "source": [
    "# run RPCA and plot with emperor\n",
    "s_rpca_biplot, s_rpca_distance = rpca(shared_table)\n",
    "s_rpca_biplot_emperor = biplot(s_rpca_biplot, metadata)\n",
    "# make directory to store results\n",
    "output_path = 'RPCA-output'\n",
    "if not os.path.exists(output_path): os.mkdir(output_path)\n",
    "# now we can save the plots\n",
    "s_rpca_biplot_emperor.visualization.save(os.path.join(output_path, 'shared_RPCA-biplot.qzv'))\n",
    "s_rpca_distance.save(os.path.join(output_path, 'shared_RPCA-distance.qza'))\n",
    "s_rpca_biplot.save(os.path.join(output_path, 'shared_RPCA-biplot.qza'))\n",
    "s_rpca_distance.export_data(os.path.join(output_path, 'shared-RPCA-distance'))"
   ]
  },
  {
   "cell_type": "code",
   "execution_count": 9,
   "metadata": {},
   "outputs": [],
   "source": [
    "! cp RPCA-output/shared-RPCA-distance/distance-matrix.tsv ./shared-rpca-distance-matrix.tsv"
   ]
  },
  {
   "cell_type": "code",
   "execution_count": 7,
   "metadata": {},
   "outputs": [],
   "source": [
    "! cp RPCA-output/all-RPCA-distance/distance-matrix.tsv ./all-rpca-distance-matrix.tsv"
   ]
  },
  {
   "cell_type": "code",
   "execution_count": null,
   "metadata": {},
   "outputs": [],
   "source": []
  },
  {
   "cell_type": "code",
   "execution_count": null,
   "metadata": {},
   "outputs": [],
   "source": []
  }
 ],
 "metadata": {
  "kernelspec": {
   "display_name": "Python (qiime2-2020.2)",
   "language": "python",
   "name": "qiime2-2020.2"
  },
  "language_info": {
   "codemirror_mode": {
    "name": "ipython",
    "version": 3
   },
   "file_extension": ".py",
   "mimetype": "text/x-python",
   "name": "python",
   "nbconvert_exporter": "python",
   "pygments_lexer": "ipython3",
   "version": "3.6.7"
  }
 },
 "nbformat": 4,
 "nbformat_minor": 4
}
